{
 "cells": [
  {
   "cell_type": "code",
   "execution_count": 4,
   "id": "88c0e9d6",
   "metadata": {},
   "outputs": [
    {
     "name": "stdout",
     "output_type": "stream",
     "text": [
      "Requirement already satisfied: pandas in c:\\users\\mehmetali\\miniconda3\\lib\\site-packages (2.3.2)\n",
      "Collecting matplotlib\n",
      "  Using cached matplotlib-3.10.6-cp313-cp313-win_amd64.whl.metadata (11 kB)\n",
      "Requirement already satisfied: numpy>=1.26.0 in c:\\users\\mehmetali\\miniconda3\\lib\\site-packages (from pandas) (2.3.2)\n",
      "Requirement already satisfied: python-dateutil>=2.8.2 in c:\\users\\mehmetali\\miniconda3\\lib\\site-packages (from pandas) (2.9.0.post0)\n",
      "Requirement already satisfied: pytz>=2020.1 in c:\\users\\mehmetali\\miniconda3\\lib\\site-packages (from pandas) (2025.2)\n",
      "Requirement already satisfied: tzdata>=2022.7 in c:\\users\\mehmetali\\miniconda3\\lib\\site-packages (from pandas) (2025.2)\n",
      "Collecting contourpy>=1.0.1 (from matplotlib)\n",
      "  Using cached contourpy-1.3.3-cp313-cp313-win_amd64.whl.metadata (5.5 kB)\n",
      "Collecting cycler>=0.10 (from matplotlib)\n",
      "  Using cached cycler-0.12.1-py3-none-any.whl.metadata (3.8 kB)\n",
      "Collecting fonttools>=4.22.0 (from matplotlib)\n",
      "  Using cached fonttools-4.59.2-cp313-cp313-win_amd64.whl.metadata (111 kB)\n",
      "Collecting kiwisolver>=1.3.1 (from matplotlib)\n",
      "  Using cached kiwisolver-1.4.9-cp313-cp313-win_amd64.whl.metadata (6.4 kB)\n",
      "Requirement already satisfied: packaging>=20.0 in c:\\users\\mehmetali\\miniconda3\\lib\\site-packages (from matplotlib) (25.0)\n",
      "Collecting pillow>=8 (from matplotlib)\n",
      "  Using cached pillow-11.3.0-cp313-cp313-win_amd64.whl.metadata (9.2 kB)\n",
      "Collecting pyparsing>=2.3.1 (from matplotlib)\n",
      "  Using cached pyparsing-3.2.3-py3-none-any.whl.metadata (5.0 kB)\n",
      "Requirement already satisfied: six>=1.5 in c:\\users\\mehmetali\\miniconda3\\lib\\site-packages (from python-dateutil>=2.8.2->pandas) (1.17.0)\n",
      "Using cached matplotlib-3.10.6-cp313-cp313-win_amd64.whl (8.1 MB)\n",
      "Using cached contourpy-1.3.3-cp313-cp313-win_amd64.whl (226 kB)\n",
      "Using cached cycler-0.12.1-py3-none-any.whl (8.3 kB)\n",
      "Using cached fonttools-4.59.2-cp313-cp313-win_amd64.whl (2.3 MB)\n",
      "Using cached kiwisolver-1.4.9-cp313-cp313-win_amd64.whl (73 kB)\n",
      "Using cached pillow-11.3.0-cp313-cp313-win_amd64.whl (7.0 MB)\n",
      "Using cached pyparsing-3.2.3-py3-none-any.whl (111 kB)\n",
      "Installing collected packages: pyparsing, pillow, kiwisolver, fonttools, cycler, contourpy, matplotlib\n",
      "\n",
      "   ----- ---------------------------------- 1/7 [pillow]\n",
      "   ----- ---------------------------------- 1/7 [pillow]\n",
      "   ----- ---------------------------------- 1/7 [pillow]\n",
      "   ----------------- ---------------------- 3/7 [fonttools]\n",
      "   ----------------- ---------------------- 3/7 [fonttools]\n",
      "   ----------------- ---------------------- 3/7 [fonttools]\n",
      "   ----------------- ---------------------- 3/7 [fonttools]\n",
      "   ----------------- ---------------------- 3/7 [fonttools]\n",
      "   ----------------- ---------------------- 3/7 [fonttools]\n",
      "   ----------------- ---------------------- 3/7 [fonttools]\n",
      "   ----------------- ---------------------- 3/7 [fonttools]\n",
      "   ----------------- ---------------------- 3/7 [fonttools]\n",
      "   ---------------------------------- ----- 6/7 [matplotlib]\n",
      "   ---------------------------------- ----- 6/7 [matplotlib]\n",
      "   ---------------------------------- ----- 6/7 [matplotlib]\n",
      "   ---------------------------------- ----- 6/7 [matplotlib]\n",
      "   ---------------------------------- ----- 6/7 [matplotlib]\n",
      "   ---------------------------------- ----- 6/7 [matplotlib]\n",
      "   ---------------------------------- ----- 6/7 [matplotlib]\n",
      "   ---------------------------------- ----- 6/7 [matplotlib]\n",
      "   ---------------------------------- ----- 6/7 [matplotlib]\n",
      "   ---------------------------------- ----- 6/7 [matplotlib]\n",
      "   ---------------------------------- ----- 6/7 [matplotlib]\n",
      "   ---------------------------------- ----- 6/7 [matplotlib]\n",
      "   ---------------------------------------- 7/7 [matplotlib]\n",
      "\n",
      "Successfully installed contourpy-1.3.3 cycler-0.12.1 fonttools-4.59.2 kiwisolver-1.4.9 matplotlib-3.10.6 pillow-11.3.0 pyparsing-3.2.3\n",
      "Note: you may need to restart the kernel to use updated packages.\n"
     ]
    }
   ],
   "source": [
    "%pip install pandas matplotlib"
   ]
  },
  {
   "cell_type": "code",
   "execution_count": 3,
   "id": "be39a7c0",
   "metadata": {},
   "outputs": [],
   "source": [
    "import numpy as np\n",
    "import pandas as pd\n",
    "import matplotlib.pyplot as plt"
   ]
  },
  {
   "cell_type": "code",
   "execution_count": null,
   "id": "ae75c227",
   "metadata": {},
   "outputs": [],
   "source": [
    "data=pd.read_csv(\"data.csv\")"
   ]
  },
  {
   "cell_type": "code",
   "execution_count": 21,
   "id": "c0a3020d",
   "metadata": {},
   "outputs": [
    {
     "data": {
      "text/html": [
       "<div>\n",
       "<style scoped>\n",
       "    .dataframe tbody tr th:only-of-type {\n",
       "        vertical-align: middle;\n",
       "    }\n",
       "\n",
       "    .dataframe tbody tr th {\n",
       "        vertical-align: top;\n",
       "    }\n",
       "\n",
       "    .dataframe thead th {\n",
       "        text-align: right;\n",
       "    }\n",
       "</style>\n",
       "<table border=\"1\" class=\"dataframe\">\n",
       "  <thead>\n",
       "    <tr style=\"text-align: right;\">\n",
       "      <th></th>\n",
       "      <th>label</th>\n",
       "      <th>1x1</th>\n",
       "      <th>1x2</th>\n",
       "      <th>1x3</th>\n",
       "      <th>1x4</th>\n",
       "      <th>1x5</th>\n",
       "      <th>1x6</th>\n",
       "      <th>1x7</th>\n",
       "      <th>1x8</th>\n",
       "      <th>1x9</th>\n",
       "      <th>...</th>\n",
       "      <th>28x19</th>\n",
       "      <th>28x20</th>\n",
       "      <th>28x21</th>\n",
       "      <th>28x22</th>\n",
       "      <th>28x23</th>\n",
       "      <th>28x24</th>\n",
       "      <th>28x25</th>\n",
       "      <th>28x26</th>\n",
       "      <th>28x27</th>\n",
       "      <th>28x28</th>\n",
       "    </tr>\n",
       "  </thead>\n",
       "  <tbody>\n",
       "    <tr>\n",
       "      <th>0</th>\n",
       "      <td>5</td>\n",
       "      <td>0</td>\n",
       "      <td>0</td>\n",
       "      <td>0</td>\n",
       "      <td>0</td>\n",
       "      <td>0</td>\n",
       "      <td>0</td>\n",
       "      <td>0</td>\n",
       "      <td>0</td>\n",
       "      <td>0</td>\n",
       "      <td>...</td>\n",
       "      <td>0</td>\n",
       "      <td>0</td>\n",
       "      <td>0</td>\n",
       "      <td>0</td>\n",
       "      <td>0</td>\n",
       "      <td>0</td>\n",
       "      <td>0</td>\n",
       "      <td>0</td>\n",
       "      <td>0</td>\n",
       "      <td>0</td>\n",
       "    </tr>\n",
       "    <tr>\n",
       "      <th>1</th>\n",
       "      <td>0</td>\n",
       "      <td>0</td>\n",
       "      <td>0</td>\n",
       "      <td>0</td>\n",
       "      <td>0</td>\n",
       "      <td>0</td>\n",
       "      <td>0</td>\n",
       "      <td>0</td>\n",
       "      <td>0</td>\n",
       "      <td>0</td>\n",
       "      <td>...</td>\n",
       "      <td>0</td>\n",
       "      <td>0</td>\n",
       "      <td>0</td>\n",
       "      <td>0</td>\n",
       "      <td>0</td>\n",
       "      <td>0</td>\n",
       "      <td>0</td>\n",
       "      <td>0</td>\n",
       "      <td>0</td>\n",
       "      <td>0</td>\n",
       "    </tr>\n",
       "    <tr>\n",
       "      <th>2</th>\n",
       "      <td>4</td>\n",
       "      <td>0</td>\n",
       "      <td>0</td>\n",
       "      <td>0</td>\n",
       "      <td>0</td>\n",
       "      <td>0</td>\n",
       "      <td>0</td>\n",
       "      <td>0</td>\n",
       "      <td>0</td>\n",
       "      <td>0</td>\n",
       "      <td>...</td>\n",
       "      <td>0</td>\n",
       "      <td>0</td>\n",
       "      <td>0</td>\n",
       "      <td>0</td>\n",
       "      <td>0</td>\n",
       "      <td>0</td>\n",
       "      <td>0</td>\n",
       "      <td>0</td>\n",
       "      <td>0</td>\n",
       "      <td>0</td>\n",
       "    </tr>\n",
       "    <tr>\n",
       "      <th>3</th>\n",
       "      <td>1</td>\n",
       "      <td>0</td>\n",
       "      <td>0</td>\n",
       "      <td>0</td>\n",
       "      <td>0</td>\n",
       "      <td>0</td>\n",
       "      <td>0</td>\n",
       "      <td>0</td>\n",
       "      <td>0</td>\n",
       "      <td>0</td>\n",
       "      <td>...</td>\n",
       "      <td>0</td>\n",
       "      <td>0</td>\n",
       "      <td>0</td>\n",
       "      <td>0</td>\n",
       "      <td>0</td>\n",
       "      <td>0</td>\n",
       "      <td>0</td>\n",
       "      <td>0</td>\n",
       "      <td>0</td>\n",
       "      <td>0</td>\n",
       "    </tr>\n",
       "    <tr>\n",
       "      <th>4</th>\n",
       "      <td>9</td>\n",
       "      <td>0</td>\n",
       "      <td>0</td>\n",
       "      <td>0</td>\n",
       "      <td>0</td>\n",
       "      <td>0</td>\n",
       "      <td>0</td>\n",
       "      <td>0</td>\n",
       "      <td>0</td>\n",
       "      <td>0</td>\n",
       "      <td>...</td>\n",
       "      <td>0</td>\n",
       "      <td>0</td>\n",
       "      <td>0</td>\n",
       "      <td>0</td>\n",
       "      <td>0</td>\n",
       "      <td>0</td>\n",
       "      <td>0</td>\n",
       "      <td>0</td>\n",
       "      <td>0</td>\n",
       "      <td>0</td>\n",
       "    </tr>\n",
       "  </tbody>\n",
       "</table>\n",
       "<p>5 rows × 785 columns</p>\n",
       "</div>"
      ],
      "text/plain": [
       "   label  1x1  1x2  1x3  1x4  1x5  1x6  1x7  1x8  1x9  ...  28x19  28x20  \\\n",
       "0      5    0    0    0    0    0    0    0    0    0  ...      0      0   \n",
       "1      0    0    0    0    0    0    0    0    0    0  ...      0      0   \n",
       "2      4    0    0    0    0    0    0    0    0    0  ...      0      0   \n",
       "3      1    0    0    0    0    0    0    0    0    0  ...      0      0   \n",
       "4      9    0    0    0    0    0    0    0    0    0  ...      0      0   \n",
       "\n",
       "   28x21  28x22  28x23  28x24  28x25  28x26  28x27  28x28  \n",
       "0      0      0      0      0      0      0      0      0  \n",
       "1      0      0      0      0      0      0      0      0  \n",
       "2      0      0      0      0      0      0      0      0  \n",
       "3      0      0      0      0      0      0      0      0  \n",
       "4      0      0      0      0      0      0      0      0  \n",
       "\n",
       "[5 rows x 785 columns]"
      ]
     },
     "execution_count": 21,
     "metadata": {},
     "output_type": "execute_result"
    }
   ],
   "source": [
    "data.head()"
   ]
  },
  {
   "cell_type": "code",
   "execution_count": null,
   "id": "27934c37",
   "metadata": {},
   "outputs": [
    {
     "name": "stdout",
     "output_type": "stream",
     "text": [
      "(784, 59000)\n"
     ]
    }
   ],
   "source": [
    "data=np.array(data)\n",
    "m, n= data.shape # m: örnek sayısı, n: özellik sayısı\n",
    "np.random.shuffle(data) #verileri karıştırma\n",
    "\n",
    "data_dev=data[0:1000].T # ilk 1000 örnek doğrulama seti\n",
    "Y_dev=data_dev[0] # etiketler\n",
    "X_dev=data_dev[1:n] # özellikler\n",
    "X_dev = X_dev / 255. # 0-1 arası ölçeklendirme\n",
    "\n",
    "data_train=data[1000:m].T # kalan örnekler eğitim seti\n",
    "Y_train=data_train[0]\n",
    "X_train=data_train[1:n]\n",
    "X_train = X_train / 255.\n",
    "_,m_train = X_train.shape"
   ]
  },
  {
   "cell_type": "code",
   "execution_count": 18,
   "id": "ced96caa",
   "metadata": {},
   "outputs": [],
   "source": [
    "def init_params(): # Ağırlık ve biasları başlatma\n",
    "    w1=np.random.rand(10,784)-0.5 #10 sınıf 784 pixel\n",
    "    b1=np.random.rand(10,1)-0.5\n",
    "    w2=np.random.rand(10,10)-0.5\n",
    "    b2=np.random.rand(10,1)-0.5\n",
    "    return w1, b1, w2, b2"
   ]
  },
  {
   "cell_type": "code",
   "execution_count": 1,
   "id": "5f1c3ddf",
   "metadata": {},
   "outputs": [
    {
     "ename": "NameError",
     "evalue": "name 'init_params' is not defined",
     "output_type": "error",
     "traceback": [
      "\u001b[31m---------------------------------------------------------------------------\u001b[39m",
      "\u001b[31mNameError\u001b[39m                                 Traceback (most recent call last)",
      "\u001b[36mCell\u001b[39m\u001b[36m \u001b[39m\u001b[32mIn[1]\u001b[39m\u001b[32m, line 1\u001b[39m\n\u001b[32m----> \u001b[39m\u001b[32m1\u001b[39m w1,b1, w2, b2 = init_params()\n",
      "\u001b[31mNameError\u001b[39m: name 'init_params' is not defined"
     ]
    }
   ],
   "source": [
    "w1,b1, w2, b2 = init_params()"
   ]
  },
  {
   "cell_type": "code",
   "execution_count": null,
   "id": "0a81a112",
   "metadata": {},
   "outputs": [],
   "source": [
    "def ReLU(Z): # ReLU aktivasyon fonksiyonu\n",
    "    return np.maximum(Z, 0) # 0'dan küçük değerleri 0 yapar"
   ]
  },
  {
   "cell_type": "code",
   "execution_count": null,
   "id": "5661ee9e",
   "metadata": {},
   "outputs": [],
   "source": [
    "def softmax(Z): # Softmax aktivasyon fonksiyonu\n",
    "    A=np.exp(Z) / sum(np.exp(Z)) # Her bir değeri exp ile alıp toplamına bölüyoruz\n",
    "    return A # Böylece değerler 0-1 arasında olur ve toplamları 1 olur her zaman"
   ]
  },
  {
   "cell_type": "code",
   "execution_count": null,
   "id": "323f513b",
   "metadata": {},
   "outputs": [],
   "source": [
    "def forward_prop(w1, b1, w2, b2, X): # İleri yayılım\n",
    "    z1=w1.dot(X)+b1\n",
    "    a1=ReLU(z1)\n",
    "    z2=w2.dot(a1)+b2\n",
    "    a2=softmax(z2)\n",
    "    return z1, a1, z2, a2"
   ]
  },
  {
   "cell_type": "code",
   "execution_count": null,
   "id": "f6e316ad",
   "metadata": {},
   "outputs": [],
   "source": [
    "def one_hot(Y): # encode işlemi\n",
    "    one_hot_Y = np.zeros((Y.size, Y.max() + 1))\n",
    "    one_hot_Y[np.arange(Y.size), Y] = 1\n",
    "    one_hot_Y = one_hot_Y.T\n",
    "    return one_hot_Y"
   ]
  },
  {
   "cell_type": "code",
   "execution_count": 19,
   "id": "135a7915",
   "metadata": {},
   "outputs": [],
   "source": [
    "def deriv_ReLU(Z):\n",
    "    return Z>0"
   ]
  },
  {
   "cell_type": "code",
   "execution_count": 2,
   "id": "7fc227b0",
   "metadata": {},
   "outputs": [],
   "source": [
    "def back_prop(z1, a1, z2, a2, w2, Y, X):\n",
    "    OneHot_Y=one_hot(Y)\n",
    "    dZ2=a2-OneHot_Y\n",
    "    dW2=1/m * dZ2.dot(a1.T)\n",
    "    db2=1/m * np.sum(dZ2)\n",
    "    dZ1=w2.T.dot(dZ2)*deriv_ReLU(z1)\n",
    "    dW1=1/m * dZ1.dot(X.T)\n",
    "    db1=1/m * np.sum(dZ1)\n",
    "    return dW1, db1, dW2, db2"
   ]
  },
  {
   "cell_type": "code",
   "execution_count": 21,
   "id": "094277e6",
   "metadata": {},
   "outputs": [],
   "source": [
    "def update_params(W1, b1, W2, b2, dW1, db1, dW2, db2, alpha):\n",
    "    W1=W1-alpha*dW1\n",
    "    b1=b1-alpha*db1\n",
    "    W2=W2-alpha*dW2\n",
    "    b2=b2-alpha*db2\n",
    "    return W1, b1, W2, b2"
   ]
  },
  {
   "cell_type": "code",
   "execution_count": null,
   "id": "7b671953",
   "metadata": {},
   "outputs": [],
   "source": [
    "def get_predictions(a2):\n",
    "    return np.argmax(a2,0) # Her sütundaki en büyük değerin indeksini döner"
   ]
  },
  {
   "cell_type": "code",
   "execution_count": 23,
   "id": "f7f80154",
   "metadata": {},
   "outputs": [],
   "source": [
    "def get_accuracy(predictions, Y):\n",
    "    print(predictions, Y)\n",
    "    return np.sum(predictions == Y)/Y.size"
   ]
  },
  {
   "cell_type": "code",
   "execution_count": 24,
   "id": "1efad1c0",
   "metadata": {},
   "outputs": [],
   "source": [
    "def gradient_descent(X, Y, iterations, alpha):\n",
    "    w1, b1, w2, b2=init_params()\n",
    "    for i in range(iterations):\n",
    "        z1, a1, z2, a2 =forward_prop(w1, b1, w2, b2, X)\n",
    "        dW1, db1, dW2, db2 = back_prop(z1, a1, z2, a2, w2, Y, X)\n",
    "        w1, b1, w2, b2 = update_params(w1, b1, w2, b2, dW1, db1, dW2, db2, alpha)\n",
    "        if i%10==0:\n",
    "            print(\"iterations: \",i)\n",
    "            print(\"accuracy: \",get_accuracy(get_predictions(a2),Y))\n",
    "    return w1, b1, w2, b2"
   ]
  },
  {
   "cell_type": "code",
   "execution_count": 25,
   "id": "f9ae6e44",
   "metadata": {},
   "outputs": [
    {
     "name": "stdout",
     "output_type": "stream",
     "text": [
      "iterations:  0\n",
      "[2 7 1 ... 1 2 2] [9 0 5 ... 7 1 7]\n",
      "accuracy:  0.08869491525423728\n",
      "iterations:  10\n",
      "[2 6 1 ... 1 8 2] [9 0 5 ... 7 1 7]\n",
      "accuracy:  0.15927118644067798\n",
      "iterations:  20\n",
      "[2 6 1 ... 1 8 7] [9 0 5 ... 7 1 7]\n",
      "accuracy:  0.22161016949152543\n",
      "iterations:  30\n",
      "[9 6 1 ... 7 1 9] [9 0 5 ... 7 1 7]\n",
      "accuracy:  0.278\n",
      "iterations:  40\n",
      "[9 6 6 ... 7 1 9] [9 0 5 ... 7 1 7]\n",
      "accuracy:  0.31703389830508477\n",
      "iterations:  50\n",
      "[9 8 6 ... 7 1 7] [9 0 5 ... 7 1 7]\n",
      "accuracy:  0.3625254237288136\n",
      "iterations:  60\n",
      "[9 8 6 ... 7 1 7] [9 0 5 ... 7 1 7]\n",
      "accuracy:  0.42647457627118646\n",
      "iterations:  70\n",
      "[9 0 6 ... 7 1 7] [9 0 5 ... 7 1 7]\n",
      "accuracy:  0.4854915254237288\n",
      "iterations:  80\n",
      "[9 0 6 ... 7 8 7] [9 0 5 ... 7 1 7]\n",
      "accuracy:  0.531135593220339\n",
      "iterations:  90\n",
      "[9 0 6 ... 7 1 7] [9 0 5 ... 7 1 7]\n",
      "accuracy:  0.5707627118644067\n",
      "iterations:  100\n",
      "[9 0 6 ... 7 1 7] [9 0 5 ... 7 1 7]\n",
      "accuracy:  0.6047796610169491\n",
      "iterations:  110\n",
      "[9 0 6 ... 7 1 7] [9 0 5 ... 7 1 7]\n",
      "accuracy:  0.6328305084745762\n",
      "iterations:  120\n",
      "[9 0 6 ... 7 1 7] [9 0 5 ... 7 1 7]\n",
      "accuracy:  0.6572881355932203\n",
      "iterations:  130\n",
      "[9 0 6 ... 7 1 7] [9 0 5 ... 7 1 7]\n",
      "accuracy:  0.6798983050847458\n",
      "iterations:  140\n",
      "[9 0 6 ... 7 1 7] [9 0 5 ... 7 1 7]\n",
      "accuracy:  0.6995762711864407\n",
      "iterations:  150\n",
      "[9 0 6 ... 7 1 7] [9 0 5 ... 7 1 7]\n",
      "accuracy:  0.7155423728813559\n",
      "iterations:  160\n",
      "[9 0 6 ... 7 1 7] [9 0 5 ... 7 1 7]\n",
      "accuracy:  0.7298474576271187\n",
      "iterations:  170\n",
      "[9 0 6 ... 7 1 7] [9 0 5 ... 7 1 7]\n",
      "accuracy:  0.7416440677966102\n",
      "iterations:  180\n",
      "[9 0 6 ... 7 1 7] [9 0 5 ... 7 1 7]\n",
      "accuracy:  0.7512711864406779\n",
      "iterations:  190\n",
      "[9 0 6 ... 7 1 7] [9 0 5 ... 7 1 7]\n",
      "accuracy:  0.7599491525423728\n"
     ]
    }
   ],
   "source": [
    "w1, b1, w2, b2=gradient_descent(X_train, Y_train, 200, 0.1)"
   ]
  },
  {
   "cell_type": "code",
   "execution_count": 26,
   "id": "97d80641",
   "metadata": {},
   "outputs": [],
   "source": [
    "def make_predictions(X, W1, b1, W2, b2):\n",
    "    _, _, _, A2 = forward_prop(W1, b1, W2, b2, X)\n",
    "    predictions = get_predictions(A2)\n",
    "    return predictions"
   ]
  },
  {
   "cell_type": "code",
   "execution_count": 27,
   "id": "8b545efd",
   "metadata": {},
   "outputs": [],
   "source": [
    "def test_prediction(index, w1, b1,w2,b2):\n",
    "    current_image = X_train[:, index, None]\n",
    "    prediction = make_predictions(X_train[:, index, None], w1,b1,w2,b2)\n",
    "    label = Y_train[index]\n",
    "\n",
    "    print(\"Prediction: \", prediction)\n",
    "    print(\"Label: \", label)\n",
    "\n",
    "    current_image = current_image.reshape((28,28)) * 255\n",
    "    plt.gray()\n",
    "    plt.imshow(current_image, interpolation=\"nearest\")\n",
    "    plt.show()"
   ]
  },
  {
   "cell_type": "code",
   "execution_count": 32,
   "id": "6bafdfc9",
   "metadata": {},
   "outputs": [
    {
     "name": "stdout",
     "output_type": "stream",
     "text": [
      "Prediction:  [7]\n",
      "Label:  4\n"
     ]
    },
    {
     "data": {
      "image/png": "[encoded data removed]",
      "text/plain": [
       "<Figure size 640x480 with 1 Axes>"
      ]
     },
     "metadata": {},
     "output_type": "display_data"
    },
    {
     "name": "stdout",
     "output_type": "stream",
     "text": [
      "Prediction:  [9]\n",
      "Label:  9\n"
     ]
    },
    {
     "data": {
      "image/png": "[encoded data removed]",
      "text/plain": [
       "<Figure size 640x480 with 1 Axes>"
      ]
     },
     "metadata": {},
     "output_type": "display_data"
    },
    {
     "name": "stdout",
     "output_type": "stream",
     "text": [
      "Prediction:  [9]\n",
      "Label:  9\n"
     ]
    },
    {
     "data": {
      "image/png": "[encoded data removed]",
      "text/plain": [
       "<Figure size 640x480 with 1 Axes>"
      ]
     },
     "metadata": {},
     "output_type": "display_data"
    },
    {
     "name": "stdout",
     "output_type": "stream",
     "text": [
      "Prediction:  [1]\n",
      "Label:  1\n"
     ]
    },
    {
     "data": {
      "image/png": "[encoded data removed]",
      "text/plain": [
       "<Figure size 640x480 with 1 Axes>"
      ]
     },
     "metadata": {},
     "output_type": "display_data"
    }
   ],
   "source": [
    "test_prediction(0, w1,b1,w2,b2)\n",
    "test_prediction(1, w1,b1,w2,b2)\n",
    "test_prediction(2, w1,b1,w2,b2)\n",
    "test_prediction(3, w1,b1,w2,b2)"
   ]
  },
  {
   "cell_type": "code",
   "execution_count": 29,
   "id": "5eaaad96",
   "metadata": {},
   "outputs": [
    {
     "name": "stdout",
     "output_type": "stream",
     "text": [
      "[3 3 5 3 6 0 4 8 8 1 4 7 3 9 5 9 0 6 9 1 8 0 2 0 0 9 7 8 1 0 8 3 9 9 1 2 1\n",
      " 9 0 2 0 6 8 4 3 7 1 6 3 2 6 2 7 3 8 4 1 3 7 8 2 8 3 3 0 6 8 8 9 1 2 7 3 5\n",
      " 6 2 1 8 2 0 4 1 4 7 6 7 4 8 4 3 9 1 7 1 9 8 8 2 8 7 9 3 0 2 9 6 3 6 8 3 3\n",
      " 5 8 9 4 2 7 7 5 8 4 9 6 9 4 4 4 4 7 6 7 6 9 7 0 0 3 7 9 8 0 6 8 7 1 7 3 4\n",
      " 9 4 4 9 1 9 7 1 9 0 6 0 0 8 9 5 2 6 4 8 9 0 0 2 9 8 6 8 3 0 2 0 8 6 3 0 1\n",
      " 6 5 1 8 5 9 2 7 6 9 8 4 8 2 3 8 8 5 2 8 8 1 8 6 6 6 9 0 1 9 1 0 9 7 2 0 9\n",
      " 3 5 3 9 3 8 7 7 0 1 8 9 2 6 8 0 4 8 9 2 8 1 9 7 8 4 1 6 2 1 8 8 7 0 2 9 8\n",
      " 3 5 8 4 8 9 9 4 4 6 7 9 3 7 0 6 7 7 8 9 1 4 5 1 3 8 1 9 2 7 0 6 3 8 7 6 0\n",
      " 3 8 9 3 0 8 0 4 6 7 6 7 1 8 7 1 0 9 9 9 9 1 9 4 6 7 8 2 1 2 6 4 0 8 3 3 7\n",
      " 1 1 4 3 9 5 3 3 9 9 1 2 4 4 3 7 3 1 5 8 7 0 1 6 3 9 7 8 6 7 6 0 1 9 6 4 8\n",
      " 1 9 8 6 6 8 9 7 6 7 3 8 8 2 2 8 0 9 8 0 6 2 1 1 8 6 2 2 2 7 9 9 1 6 6 6 8\n",
      " 4 1 0 0 5 4 7 1 9 9 9 1 7 0 1 7 6 9 2 8 0 7 1 4 5 7 8 8 3 9 6 8 9 6 8 3 1\n",
      " 3 6 2 4 8 1 8 7 9 8 1 3 1 7 6 6 1 6 1 6 0 8 5 0 1 0 7 4 3 8 0 0 8 2 3 2 1\n",
      " 4 7 2 2 4 2 2 3 3 0 6 1 1 6 3 9 9 7 4 2 0 3 5 0 8 7 3 8 0 7 4 0 1 0 5 1 2\n",
      " 7 8 7 1 3 7 1 3 6 7 8 2 0 4 8 8 3 9 5 5 2 4 2 3 6 7 8 4 7 3 7 7 7 5 3 0 5\n",
      " 3 8 5 1 1 1 9 4 0 8 4 6 6 4 2 6 1 3 9 7 1 1 1 6 7 0 8 6 0 1 7 7 3 6 2 3 3\n",
      " 9 0 9 9 8 6 1 8 4 6 0 5 1 9 6 7 7 5 4 4 2 0 6 0 7 0 7 4 1 2 7 1 3 4 5 1 4\n",
      " 6 3 4 8 1 2 5 6 1 8 9 8 0 6 2 1 5 5 5 0 4 4 9 0 8 0 0 2 9 1 6 0 6 6 6 3 1\n",
      " 0 1 1 4 3 2 6 6 2 4 2 5 9 1 2 4 9 6 3 1 4 2 0 2 1 7 0 2 6 8 3 1 3 1 1 6 4\n",
      " 2 2 9 6 9 4 4 0 2 8 7 5 2 0 7 1 8 5 3 6 8 3 6 5 5 7 8 1 9 0 9 6 0 3 3 3 3\n",
      " 7 1 0 6 1 0 4 8 2 4 9 4 2 1 3 4 7 9 4 0 3 7 1 5 8 0 9 0 9 9 0 1 5 7 6 7 6\n",
      " 5 4 8 4 3 9 6 1 6 8 3 3 0 6 9 0 6 2 6 2 2 9 4 0 0 1 7 8 0 2 1 2 9 4 8 3 8\n",
      " 1 6 9 1 8 9 0 9 5 9 4 3 3 3 0 1 0 4 1 0 4 6 8 3 1 2 1 1 4 8 3 1 9 0 6 0 8\n",
      " 4 7 7 8 0 9 7 0 9 3 2 1 0 1 9 3 9 6 6 2 7 0 0 6 2 1 9 8 7 8 4 2 3 6 8 7 9\n",
      " 8 6 6 6 5 8 8 6 6 1 0 1 4 1 1 6 9 6 2 6 4 4 6 6 1 1 2 1 7 2 6 6 4 0 9 2 6\n",
      " 1 0 3 8 3 3 4 5 6 2 7 3 8 5 6 7 1 1 6 9 1 2 9 7 5 1 3 3 5 3 1 9 8 1 4 7 8\n",
      " 6 5 7 1 6 8 7 1 2 9 3 1 7 3 3 9 1 1 0 3 0 3 0 1 3 8 1 1 2 7 4 7 7 9 1 3 2\n",
      " 8] [3 3 5 3 6 0 4 8 5 8 4 7 2 9 5 9 0 6 9 1 8 0 2 0 6 9 3 6 1 0 9 5 9 7 1 2 1\n",
      " 9 5 2 0 6 2 4 3 7 8 6 9 2 1 2 7 3 8 9 1 3 7 4 2 8 3 3 0 6 8 2 9 5 2 7 3 8\n",
      " 6 3 3 8 2 0 4 3 4 9 6 9 4 5 4 8 9 1 7 1 8 3 5 2 8 9 9 2 0 2 9 6 3 6 8 3 3\n",
      " 0 8 9 4 2 7 7 8 8 4 9 6 9 4 4 9 4 7 6 7 9 9 6 0 0 5 7 9 8 0 6 8 7 1 7 3 4\n",
      " 9 4 4 9 1 7 7 5 7 0 6 6 0 7 9 1 2 6 4 8 9 0 0 0 9 8 6 8 5 0 2 3 8 6 5 0 1\n",
      " 6 0 1 8 0 9 2 9 6 9 5 4 8 2 2 8 8 5 2 6 3 1 8 6 6 2 9 3 1 4 1 5 9 7 2 0 9\n",
      " 9 3 3 4 3 8 7 7 3 1 8 2 2 6 8 0 8 8 9 2 8 1 4 7 8 4 1 6 1 1 8 8 7 0 2 9 8\n",
      " 3 8 8 4 8 9 7 9 9 6 7 9 3 7 0 6 7 7 8 9 8 4 5 1 3 8 8 4 2 7 0 6 3 8 7 6 0\n",
      " 3 5 9 3 0 8 0 4 6 7 6 7 1 5 2 1 0 9 9 9 4 8 9 4 6 7 5 2 1 2 6 4 0 8 3 3 7\n",
      " 1 1 4 3 9 5 3 8 7 9 1 2 4 1 3 7 5 1 5 8 7 0 1 6 3 9 7 8 6 3 6 0 1 9 6 9 3\n",
      " 1 9 5 6 6 8 9 7 6 7 3 7 3 2 2 0 0 7 8 0 6 2 1 1 8 4 5 2 8 7 9 9 1 2 6 6 8\n",
      " 4 1 0 0 8 2 7 8 9 3 3 1 7 0 1 7 6 9 6 8 0 7 1 4 5 7 8 8 3 9 6 5 9 6 8 3 1\n",
      " 2 6 2 4 8 1 8 7 9 8 1 3 1 7 6 6 2 6 1 6 0 5 5 0 3 0 7 4 3 8 0 0 3 8 3 2 1\n",
      " 9 7 2 2 4 9 2 3 0 0 4 1 1 6 3 9 9 7 4 2 0 3 3 2 8 7 3 3 0 7 4 0 1 5 8 2 2\n",
      " 7 8 7 1 3 7 1 2 6 7 8 2 0 4 8 5 3 4 5 5 2 2 2 3 6 7 8 4 7 3 9 7 7 5 5 0 5\n",
      " 3 5 5 1 1 1 4 4 0 3 4 6 4 9 2 6 1 3 9 7 1 1 1 6 7 0 4 6 0 1 7 7 3 5 2 3 3\n",
      " 9 0 4 8 8 6 1 5 4 4 5 5 1 9 6 7 7 5 4 4 2 0 6 0 7 0 7 4 1 2 7 1 3 4 5 3 9\n",
      " 6 9 4 8 1 2 5 6 1 9 9 5 0 6 2 1 3 5 5 0 9 9 9 0 3 0 0 2 9 1 6 0 4 6 6 7 1\n",
      " 0 1 1 9 3 7 6 6 2 4 2 5 5 1 2 6 9 6 8 1 4 4 5 7 1 7 0 2 6 8 3 1 9 1 1 6 6\n",
      " 2 3 9 5 3 5 4 0 4 8 7 5 2 0 7 1 5 5 3 6 8 3 6 5 5 7 8 1 9 0 9 6 0 3 3 3 3\n",
      " 7 1 0 6 1 0 4 8 7 9 4 4 2 1 3 4 7 7 4 0 9 7 1 5 8 0 9 0 9 8 0 1 5 2 6 7 6\n",
      " 5 4 5 4 3 9 6 5 6 8 3 0 0 6 9 4 6 2 6 2 2 9 4 5 0 2 7 5 0 2 1 7 4 4 5 3 8\n",
      " 1 6 9 1 8 9 0 9 5 4 4 3 3 2 0 1 0 7 1 0 2 6 8 3 1 2 4 1 9 8 9 1 8 0 6 0 8\n",
      " 4 7 7 5 0 9 7 0 9 2 2 1 0 1 9 3 9 6 6 4 7 0 0 6 2 1 9 2 7 4 4 2 3 6 8 7 9\n",
      " 8 6 2 6 5 9 8 6 6 1 0 1 4 1 1 6 9 6 2 6 4 4 6 6 1 1 2 1 7 2 6 6 4 0 9 2 6\n",
      " 1 0 3 8 9 3 9 5 6 2 7 3 5 5 6 7 1 8 6 9 1 2 9 9 5 1 8 3 5 3 1 9 2 1 4 7 8\n",
      " 6 5 7 1 6 8 7 1 2 9 3 1 7 3 3 9 1 7 0 3 0 3 3 1 3 8 1 3 2 7 9 7 7 9 8 3 2\n",
      " 5]\n"
     ]
    },
    {
     "data": {
      "text/plain": [
       "np.float64(0.792)"
      ]
     },
     "execution_count": 29,
     "metadata": {},
     "output_type": "execute_result"
    }
   ],
   "source": [
    "dev_predictions = make_predictions(X_dev, w1,b1,w2,b2)\n",
    "get_accuracy(dev_predictions, Y_dev)"
   ]
  },
  {
   "cell_type": "code",
   "execution_count": null,
   "id": "01b8ac9c",
   "metadata": {},
   "outputs": [],
   "source": []
  },
  {
   "cell_type": "code",
   "execution_count": null,
   "id": "cbeccc7b",
   "metadata": {},
   "outputs": [],
   "source": []
  },
  {
   "cell_type": "code",
   "execution_count": null,
   "id": "fea1c54e",
   "metadata": {},
   "outputs": [],
   "source": []
  },
  {
   "cell_type": "code",
   "execution_count": null,
   "id": "299b7486",
   "metadata": {},
   "outputs": [],
   "source": []
  },
  {
   "cell_type": "code",
   "execution_count": null,
   "id": "dfb9c951",
   "metadata": {},
   "outputs": [],
   "source": []
  },
  {
   "cell_type": "code",
   "execution_count": null,
   "id": "002f52dd",
   "metadata": {},
   "outputs": [],
   "source": []
  }
 ],
 "metadata": {
  "kernelspec": {
   "display_name": "base",
   "language": "python",
   "name": "python3"
  },
  "language_info": {
   "codemirror_mode": {
    "name": "ipython",
    "version": 3
   },
   "file_extension": ".py",
   "mimetype": "text/x-python",
   "name": "python",
   "nbconvert_exporter": "python",
   "pygments_lexer": "ipython3",
   "version": "3.13.5"
  }
 },
 "nbformat": 4,
 "nbformat_minor": 5
}
